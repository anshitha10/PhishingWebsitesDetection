{
 "cells": [
  {
   "cell_type": "markdown",
   "id": "06884ec0",
   "metadata": {},
   "source": [
    "# Feature Extraction "
   ]
  },
  {
   "cell_type": "code",
   "execution_count": 1,
   "id": "18f50d3d",
   "metadata": {},
   "outputs": [],
   "source": [
    "import pandas as pd"
   ]
  },
  {
   "cell_type": "markdown",
   "id": "76d40437",
   "metadata": {},
   "source": [
    "### URL Based"
   ]
  },
  {
   "cell_type": "code",
   "execution_count": 2,
   "id": "777e7e8a",
   "metadata": {},
   "outputs": [],
   "source": [
    "# Importing urlparser module \n",
    "from urllib.parse import urlparse\n",
    "import re"
   ]
  },
  {
   "cell_type": "markdown",
   "id": "39c8be8e",
   "metadata": {},
   "source": [
    ">##### Checking IP"
   ]
  },
  {
   "cell_type": "code",
   "execution_count": 3,
   "id": "d1a58b84",
   "metadata": {},
   "outputs": [],
   "source": [
    "# Function for checking if the URL has IP address or not\n",
    "# If the URL has an IP address it is assigned with 1 and if it doesn't contain 0.\n",
    "# 1 indicating that the URL is malacious whereas 0 indicating legitimate URL.\n",
    "\n",
    "def havingIP(url):\n",
    "  try:\n",
    "    ipaddress.ip_address(url)\n",
    "    ip = 1\n",
    "  except:\n",
    "    ip = 0\n",
    "  return ip"
   ]
  },
  {
   "cell_type": "markdown",
   "id": "3c5b6a94",
   "metadata": {},
   "source": [
    ">##### Checking @"
   ]
  },
  {
   "cell_type": "code",
   "execution_count": 4,
   "id": "0ff3ed19",
   "metadata": {},
   "outputs": [],
   "source": [
    "# Function for checking if the URL has \"@\" symbol or not\n",
    "# If the URL has an \"@\" it is assigned with 1 and if it doesn't contain 0.\n",
    "# 1 indicating that the URL is malacious whereas 0 indicating legitimate URL.\n",
    "\n",
    "def haveAt(url):\n",
    "    if \"@\" in url:\n",
    "        return 1\n",
    "    else:\n",
    "        return 0"
   ]
  },
  {
   "cell_type": "markdown",
   "id": "367c3c0e",
   "metadata": {},
   "source": [
    ">##### Finding URL Lenght"
   ]
  },
  {
   "cell_type": "code",
   "execution_count": 5,
   "id": "b229e75d",
   "metadata": {},
   "outputs": [],
   "source": [
    "def url_length(url):\n",
    "    if len(url) > 55:\n",
    "        return 1\n",
    "    else:\n",
    "        return 0"
   ]
  },
  {
   "cell_type": "markdown",
   "id": "c2eee1c3",
   "metadata": {},
   "source": [
    ">##### Finding URL depth"
   ]
  },
  {
   "cell_type": "code",
   "execution_count": 6,
   "id": "938564c2",
   "metadata": {},
   "outputs": [],
   "source": [
    "# Function for checking if the URL depth symbol or not\n",
    "# If the URL depth  is assigned with '/', 1 and if it doesn't contain 0.\n",
    "# 1 indicating that the URL is malacious whereas 0 indicating legitimate URL.\n",
    "\n",
    "from urllib.parse import urlparse\n",
    "\n",
    "def url_depth(url):\n",
    "    parsed_url = urlparse(url)\n",
    "    path = parsed_url.path\n",
    "    depth = path.count('/')  # Count the number of slashes in the path\n",
    "    return depth"
   ]
  },
  {
   "cell_type": "markdown",
   "id": "a691b452",
   "metadata": {},
   "source": [
    ">#####  Checking Redirects"
   ]
  },
  {
   "cell_type": "code",
   "execution_count": 7,
   "id": "12110a41",
   "metadata": {},
   "outputs": [],
   "source": [
    "# Function for checking if the URL has '//'.\n",
    "# If the URL has an \"//\" it is assigned with 1 and if it doesn't contain 0.\n",
    "# 1 indicating that the URL is malacious whereas 0 indicating legitimate URL.\n",
    "\n",
    "def Redirection(url):\n",
    "    loc = url.rfind('//')\n",
    "    if loc > 6:\n",
    "        if loc > 7:\n",
    "          return 1\n",
    "        else:\n",
    "          return 0\n",
    "    else:\n",
    "        return 0"
   ]
  },
  {
   "cell_type": "markdown",
   "id": "0f4db0f4",
   "metadata": {},
   "source": [
    ">##### Checking for HTTP and HTTPS"
   ]
  },
  {
   "cell_type": "code",
   "execution_count": 8,
   "id": "4b89aec1",
   "metadata": {},
   "outputs": [],
   "source": [
    "# Function for checking if the URL has 'https', or 'http'\n",
    "# If the URL has \"http\" it is assigned with 1 and if it has 'https' contain 0.\n",
    "# 1 indicating that the URL is malacious whereas 0 indicating legitimate URL.\n",
    "\n",
    "def https_domain(url):\n",
    "  domain = urlparse(url).netloc\n",
    "  if 'https' in domain:\n",
    "    return 1\n",
    "  else:\n",
    "    return 0"
   ]
  },
  {
   "cell_type": "markdown",
   "id": "10adf220",
   "metadata": {},
   "source": [
    ">##### Checking for URL shorteners"
   ]
  },
  {
   "cell_type": "code",
   "execution_count": 9,
   "id": "2ca112b3",
   "metadata": {},
   "outputs": [],
   "source": [
    "# Function for checking if the URL used link shorteners.\n",
    "# If the URL has used link shortener it is assigned with 1 and 0 if it didn't use.\n",
    "# 1 indicating that the URL is malacious whereas 0 indicating legitimate URL.\n",
    "\n",
    "def TinyUrl(url):\n",
    "    shortener_domains = ['bit.ly','goo.gl','t.co','ow.ly', 'tinyurl.com','is.gd', 'buff.ly',\n",
    "    'adobe.ly','shorturl.at','tiny.cc','ow.ly',\n",
    "    's.coop','rebrand.ly','soo.gd','v.gd','prettylinks.com','bc.vc',\n",
    "    'cutt.ly','qr.ae','u.nu','shorl.com',\n",
    "    'mcaf.ee','tr.im','fur.ly','cli.gs','yourls.org','tiny.pl','vzturl.com','adcrun.ch','x.co','zz.gd',\n",
    "    'qr.net','tr.im','shorte.st','9.bb','ity.im','adf.ly','flyt.it','lin.ks','adflav.com','amzn.to',\n",
    "    '0rz.tw','crisco.com','snipurl.com','memurl.com','dft.ba','clicky.me','7.ly',\n",
    "    'budurl.com','u.to','pnt.me','viralurl.com','2.gp','xlinkz.info','3.ly',\n",
    "    '9.bb','10.go','ergo.pp.ua','golinks.co','tiny.ie','adcraft.co','sk.gy',\n",
    "    'xzb.cc','lin.io','go.9nl.com','u.bb','hiderefer.com','tu2.ru','x.vu','lnk.co',\n",
    "    'su.pr','shar.as','notlong.com','zpag.es','u6e.de','2ya.com','viralurl.biz','4ms.me',\n",
    "    'rofl.my','lurl.no','url.ie','ff.im','hit.my','korta.nu','x.se','ref.so','durl.me',\n",
    "    'fwib.net','zii.bz','vzturl.com','memurl.com','dft.ba','1url.com','tinylinks.co','vb.ly',\n",
    "    'qr.cx','go.2link.me','tweetburner.com','pic.gd','2u.pw','ls.gd','2pl.us',\n",
    "    'urlx.ie','utrack.me','yi.tl','ref.li','zipmyurl.com','qicute.com','cx6.co','x90.es','urlcorta.es',\n",
    "    'pw2.ro','cort.as','minilien.com','yourls.com','hurl.me','tgr.me','shout.to',\n",
    "    'x2c.eu','shrten.com','dwarfurl.com','lnkd.in','dai.ly','v.gd','nyti.ms','aje.me',\n",
    "    'huff.to','slate.me','trib.al','pco.lt','thetim.es','n.pr','reut.rs','on.wsj.com','usat.ly','nbcnews.to',\n",
    "    'abcn.ws','cbsn.ws','tcrn.ch','engt.co','bzfd.it','bzfd.it','ti.me','bzfd.it','natgeo.org',\n",
    "    'ars.to','ti.me','bzfd.it','natgeo.org','ars.to','bzfd.it','for.tn','bzfd.it','t.ted.com',\n",
    "    'hbr.org','slate.me','bzfd.it','bzfd.it','for.tn','bzfd.it','huffp.st','bzfd.it','nyti.ms','slate.me',\n",
    "]\n",
    "    domain = urlparse(url).netloc\n",
    "    for i in shortener_domains:\n",
    "        if i in domain:\n",
    "            return 1\n",
    "        else:\n",
    "            return 0"
   ]
  },
  {
   "cell_type": "markdown",
   "id": "bab7b36e",
   "metadata": {},
   "source": [
    ">##### Checking Prefix and Sufix"
   ]
  },
  {
   "cell_type": "code",
   "execution_count": 10,
   "id": "f242858b",
   "metadata": {},
   "outputs": [],
   "source": [
    "# Function for checking if the URL has \"-\" or not\n",
    "# If the URL has an \"-\" it is assigned with 1 and if it doesn't contain 0.\n",
    "# 1 indicating that the URL is malacious whereas 0 indicating legitimate URL\n",
    "\n",
    "def PSFix(url):\n",
    "    fix = urlparse(url).netloc\n",
    "    if '-' in fix:\n",
    "        return 1\n",
    "    else:\n",
    "        return 0"
   ]
  },
  {
   "cell_type": "markdown",
   "id": "ac4b94f4",
   "metadata": {},
   "source": [
    "### HTML and JavaScript based Features"
   ]
  },
  {
   "cell_type": "code",
   "execution_count": 11,
   "id": "584028c1",
   "metadata": {},
   "outputs": [],
   "source": [
    "import requests"
   ]
  },
  {
   "cell_type": "markdown",
   "id": "e58f177c",
   "metadata": {},
   "source": [
    ">##### iFrame Redirections"
   ]
  },
  {
   "cell_type": "code",
   "execution_count": 12,
   "id": "0c9b8728",
   "metadata": {},
   "outputs": [],
   "source": [
    "def iFrame(response):\n",
    "  if response == \"\":\n",
    "      return 1\n",
    "  else:\n",
    "      if re.findall(r\"[|]\", response.text):\n",
    "          return 0\n",
    "      else:\n",
    "          return 1"
   ]
  },
  {
   "cell_type": "markdown",
   "id": "dbf6debb",
   "metadata": {},
   "source": [
    ">##### Mouse Over"
   ]
  },
  {
   "cell_type": "code",
   "execution_count": 13,
   "id": "3854fcd5",
   "metadata": {},
   "outputs": [],
   "source": [
    "def Mouse_Over(response):\n",
    "    if response == \"\" :\n",
    "        return 1\n",
    "    else:\n",
    "        if re.findall(\"\", response.text):\n",
    "            return 1\n",
    "        else:\n",
    "          return 0"
   ]
  },
  {
   "cell_type": "markdown",
   "id": "03305c81",
   "metadata": {},
   "source": [
    ">##### Right Click"
   ]
  },
  {
   "cell_type": "code",
   "execution_count": 14,
   "id": "e791a7b0",
   "metadata": {},
   "outputs": [],
   "source": [
    "def Right_Click(url):\n",
    "  if response == \"\":\n",
    "    return 1\n",
    "  else:\n",
    "    if re.findall(r\"event.button ?== ?2\", response.text):\n",
    "      return 0\n",
    "    else:\n",
    "      return 1\n",
    "    "
   ]
  },
  {
   "cell_type": "markdown",
   "id": "4c349b29",
   "metadata": {},
   "source": [
    ">##### Web Forwards"
   ]
  },
  {
   "cell_type": "code",
   "execution_count": 15,
   "id": "3bd17b67",
   "metadata": {},
   "outputs": [],
   "source": [
    "def Web_Forwards(url):\n",
    "  if response == \"\":\n",
    "    return 1\n",
    "  else:\n",
    "    if len(response.history) <= 2:\n",
    "      return 0\n",
    "    else:\n",
    "      return 1"
   ]
  },
  {
   "cell_type": "markdown",
   "id": "39ae5d5c",
   "metadata": {},
   "source": [
    "# Input Format"
   ]
  },
  {
   "cell_type": "code",
   "execution_count": 16,
   "id": "1739a6b3",
   "metadata": {},
   "outputs": [
    {
     "name": "stdout",
     "output_type": "stream",
     "text": [
      "Enter the url that needs to be evaluated:-\n",
      "https://mail.google.com/mail/u/0/?tab=rm&ogbl#inbox/FMfcgzGsnBmKbNRFtQfMbdBqFhQFhgSF\n"
     ]
    }
   ],
   "source": [
    "url = input('Enter the url that needs to be evaluated:-\\n')"
   ]
  },
  {
   "cell_type": "code",
   "execution_count": null,
   "id": "aa2ba69a",
   "metadata": {},
   "outputs": [],
   "source": []
  },
  {
   "cell_type": "code",
   "execution_count": 17,
   "id": "824311f8",
   "metadata": {},
   "outputs": [
    {
     "data": {
      "text/plain": [
       "[0, 0, 1, 4, 0, 0, 0, 0, 0, 1, 1, 1]"
      ]
     },
     "execution_count": 17,
     "metadata": {},
     "output_type": "execute_result"
    }
   ],
   "source": [
    "# Creating holders to store the model performance result\n",
    "feature = []\n",
    "\n",
    "feature.append(havingIP(url)) #1\n",
    "feature.append(haveAt(url)) #2\n",
    "feature.append(url_length(url)) #3\n",
    "feature.append(url_depth(url))  #4\n",
    "feature.append(Redirection(url)) #5\n",
    "feature.append(https_domain(url)) #6\n",
    "feature.append(TinyUrl(url)) #7 \n",
    "feature.append(PSFix(url)) #8\n",
    "\n",
    "try:\n",
    "    response = requests.get(url)\n",
    "except:\n",
    "    response = \"\"\n",
    "\n",
    "feature.append(iFrame(response)) #9\n",
    "feature.append(Mouse_Over(response))  #10\n",
    "feature.append(Right_Click(response))  #11\n",
    "feature.append(Web_Forwards(response))  #12\n",
    "\n",
    "feature"
   ]
  },
  {
   "cell_type": "code",
   "execution_count": 18,
   "id": "73763d0c",
   "metadata": {},
   "outputs": [],
   "source": [
    "import numpy as np"
   ]
  },
  {
   "cell_type": "code",
   "execution_count": 19,
   "id": "285a7e76",
   "metadata": {},
   "outputs": [],
   "source": [
    "feature = np.array(feature)"
   ]
  },
  {
   "cell_type": "code",
   "execution_count": 20,
   "id": "5cb4a027",
   "metadata": {},
   "outputs": [],
   "source": [
    "feature = feature.reshape(-1,1)"
   ]
  },
  {
   "cell_type": "code",
   "execution_count": 21,
   "id": "c08fd66e",
   "metadata": {},
   "outputs": [],
   "source": [
    "d={'Have_IP':feature[0],\n",
    "   'Have_At':feature[1],\n",
    "   'URL_Length':feature[2],\n",
    "   'URL_Depth':feature[3],\n",
    "   'Redirection':feature[4],\n",
    "   'https_Domain':feature[5],\n",
    "   'TinyURL':feature[6],\n",
    "   'Prefix/Suffix':feature[7],\n",
    "   'iFrame':feature[8],\n",
    "   'Mouse_Over':feature[9],\n",
    "   'Right_Click':feature[10],\n",
    "   'Web_Forwards':feature[11]   \n",
    "}"
   ]
  },
  {
   "cell_type": "code",
   "execution_count": 22,
   "id": "b4201183",
   "metadata": {},
   "outputs": [],
   "source": [
    "feature=pd.DataFrame(d)"
   ]
  },
  {
   "cell_type": "code",
   "execution_count": 23,
   "id": "3fe4215d",
   "metadata": {},
   "outputs": [],
   "source": [
    "import pickle"
   ]
  },
  {
   "cell_type": "code",
   "execution_count": 24,
   "id": "e11eb87b",
   "metadata": {},
   "outputs": [],
   "source": [
    "# Load the Random Forest model from the pickle file\n",
    "with open('random_forest_model.pkl', 'rb') as file:\n",
    "    rf_loaded = pickle.load(file)"
   ]
  },
  {
   "cell_type": "code",
   "execution_count": 25,
   "id": "3b5fd4f2",
   "metadata": {},
   "outputs": [],
   "source": [
    "predictions = rf_loaded.predict(feature)"
   ]
  },
  {
   "cell_type": "code",
   "execution_count": 26,
   "id": "8424c9ab",
   "metadata": {},
   "outputs": [
    {
     "name": "stdout",
     "output_type": "stream",
     "text": [
      "Legitimate😜👍\n"
     ]
    }
   ],
   "source": [
    "if predictions == 1:\n",
    "    print(\"Phishing✋🚫\")\n",
    "else:\n",
    "    print(\"Legitimate😜👍\")"
   ]
  },
  {
   "cell_type": "code",
   "execution_count": null,
   "id": "39e79ca2",
   "metadata": {},
   "outputs": [],
   "source": []
  },
  {
   "cell_type": "code",
   "execution_count": null,
   "id": "774d2f48",
   "metadata": {},
   "outputs": [],
   "source": []
  }
 ],
 "metadata": {
  "kernelspec": {
   "display_name": "Python 3 (ipykernel)",
   "language": "python",
   "name": "python3"
  },
  "language_info": {
   "codemirror_mode": {
    "name": "ipython",
    "version": 3
   },
   "file_extension": ".py",
   "mimetype": "text/x-python",
   "name": "python",
   "nbconvert_exporter": "python",
   "pygments_lexer": "ipython3",
   "version": "3.9.13"
  }
 },
 "nbformat": 4,
 "nbformat_minor": 5
}
